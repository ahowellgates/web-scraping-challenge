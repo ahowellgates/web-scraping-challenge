{
 "cells": [
  {
   "cell_type": "markdown",
   "id": "07efdb5b-9c05-4a99-8e22-c2018b4c20b8",
   "metadata": {},
   "source": [
    "# Setup"
   ]
  },
  {
   "cell_type": "code",
   "execution_count": 3,
   "id": "15cf45e3-8752-406c-adc7-75bee0ef64d9",
   "metadata": {},
   "outputs": [],
   "source": [
    "# Dependencies\n",
    "import pandas as pd\n",
    "from splinter import Browser\n",
    "from bs4 import BeautifulSoup\n",
    "from webdriver_manager.chrome import ChromeDriverManager\n",
    "import requests"
   ]
  },
  {
   "cell_type": "markdown",
   "id": "db3acd82-5bb8-49d5-917b-1cf9d24129a7",
   "metadata": {},
   "source": [
    "# Webscraping"
   ]
  },
  {
   "cell_type": "markdown",
   "id": "962a5bf1-cbed-4fed-a32d-8c4f42e7067c",
   "metadata": {},
   "source": [
    "## Nasa Mars News"
   ]
  },
  {
   "cell_type": "code",
   "execution_count": 4,
   "id": "c7a0faa0-0b5d-45b0-b5a0-151d45126806",
   "metadata": {},
   "outputs": [
    {
     "name": "stderr",
     "output_type": "stream",
     "text": [
      "\n",
      "\n",
      "====== WebDriver manager ======\n",
      "Current google-chrome version is 80.0.3987\n",
      "Get LATEST driver version for 80.0.3987\n",
      "There is no [mac64] chromedriver for browser 80.0.3987 in cache\n",
      "Get LATEST driver version for 80.0.3987\n",
      "Trying to download new driver from https://chromedriver.storage.googleapis.com/80.0.3987.106/chromedriver_mac64.zip\n",
      "Driver has been saved in cache [/Users/ashleygates/.wdm/drivers/chromedriver/mac64/80.0.3987.106]\n"
     ]
    }
   ],
   "source": [
    "# Setup splinter\n",
    "executable_path = {'executable_path': ChromeDriverManager().install()}\n",
    "browser = Browser('chrome', **executable_path, headless=False)"
   ]
  },
  {
   "cell_type": "code",
   "execution_count": 5,
   "id": "a48aa1bc-30a8-4fed-9d28-c9b8ccf78a1c",
   "metadata": {},
   "outputs": [],
   "source": [
    "# URL of page to be scraped\n",
    "url = 'https://mars.nasa.gov/news/?page=0&per_page=40&order=publish_date+desc%2Ccreated_at+desc&search=&category=19%2C165%2C184%2C204&blank_scope=Latest'\n",
    "browser.visit(url)"
   ]
  },
  {
   "cell_type": "code",
   "execution_count": 7,
   "id": "2c9511bb-058a-4441-86d1-89a8cce2e843",
   "metadata": {},
   "outputs": [],
   "source": [
    "# Create BeautifulSoup object; parse with 'html.parser'\n",
    "html = browser.html\n",
    "soup = BeautifulSoup(html, 'html.parser')"
   ]
  },
  {
   "cell_type": "code",
   "execution_count": 9,
   "id": "4597b819-034e-4757-b12d-42f1260ef04c",
   "metadata": {},
   "outputs": [
    {
     "name": "stdout",
     "output_type": "stream",
     "text": [
      "NASA's Perseverance Plans Next Sample Attempt\n",
      "The rover will abrade a rock this week, allowing scientists and engineers to decide whether that target would withstand its powerful drill.\n"
     ]
    }
   ],
   "source": [
    "# Get a list of all news division and pick out the latest one\n",
    "\n",
    "results = soup.find_all('div', class_='list_text')\n",
    "result = results[0]\n",
    "\n",
    "\n",
    "try:\n",
    "    # Identify and return title and paragraph\n",
    "    news_title = result.find('div', class_='content_title').a.text.strip()\n",
    "    news_paragraph = result.find('div', class_='article_teaser_body').text.strip()\n",
    "    \n",
    "    # Print title and paragraph\n",
    "    print(news_title)\n",
    "    print(news_paragraph)\n",
    "\n",
    "except Exception as e: \n",
    "    print(e)"
   ]
  },
  {
   "cell_type": "code",
   "execution_count": null,
   "id": "1dace847-c924-406c-821f-2447aabde281",
   "metadata": {
    "tags": []
   },
   "outputs": [],
   "source": [
    "browser.quit()"
   ]
  },
  {
   "cell_type": "markdown",
   "id": "5885cf08-ec42-40f8-87cb-3fa5a1b45233",
   "metadata": {},
   "source": [
    "## Mars Image"
   ]
  },
  {
   "cell_type": "code",
   "execution_count": null,
   "id": "a8d845b2-e8e3-4436-8ef0-67097303f863",
   "metadata": {},
   "outputs": [],
   "source": []
  },
  {
   "cell_type": "code",
   "execution_count": null,
   "id": "1e398e41-4b65-4501-8eaa-f16f69597591",
   "metadata": {},
   "outputs": [],
   "source": []
  },
  {
   "cell_type": "code",
   "execution_count": null,
   "id": "d2fbde13-9dc9-46c9-a25e-3abac1f4e0d1",
   "metadata": {},
   "outputs": [],
   "source": []
  },
  {
   "cell_type": "code",
   "execution_count": null,
   "id": "4d7f2f67-6a6b-4add-8be4-a87c408ba47e",
   "metadata": {},
   "outputs": [],
   "source": []
  },
  {
   "cell_type": "markdown",
   "id": "6064c268-37a6-454f-971a-11b6a9b17176",
   "metadata": {},
   "source": [
    "## Mars Facts"
   ]
  },
  {
   "cell_type": "code",
   "execution_count": null,
   "id": "99529837-79f6-47bb-aaee-811a0723f803",
   "metadata": {
    "tags": []
   },
   "outputs": [],
   "source": []
  },
  {
   "cell_type": "code",
   "execution_count": null,
   "id": "f5f2fdae-e28d-494e-8f37-ffb566a8416f",
   "metadata": {},
   "outputs": [],
   "source": []
  },
  {
   "cell_type": "code",
   "execution_count": null,
   "id": "dd4742b7-1c34-46f0-863c-f3ab3d615601",
   "metadata": {},
   "outputs": [],
   "source": []
  },
  {
   "cell_type": "code",
   "execution_count": null,
   "id": "4c6a9be3-e2d8-482f-9b8e-0009f21eddc1",
   "metadata": {},
   "outputs": [],
   "source": []
  },
  {
   "cell_type": "code",
   "execution_count": null,
   "id": "f02b3c1e-668e-4a56-ac5c-f0361ba5d89d",
   "metadata": {},
   "outputs": [],
   "source": []
  },
  {
   "cell_type": "code",
   "execution_count": null,
   "id": "f52f58a6-38d6-4aeb-82bd-5023cb254538",
   "metadata": {},
   "outputs": [],
   "source": []
  },
  {
   "cell_type": "code",
   "execution_count": null,
   "id": "d7438ac7-5278-4a6b-89f4-f2a14655dedb",
   "metadata": {},
   "outputs": [],
   "source": []
  },
  {
   "cell_type": "markdown",
   "id": "a906a403-c9a0-415c-8f3d-5041516ba69a",
   "metadata": {},
   "source": [
    "## Mars Hemispheres"
   ]
  },
  {
   "cell_type": "code",
   "execution_count": null,
   "id": "8be5a2a7-26b6-428c-aa8a-28f6e5b45b20",
   "metadata": {},
   "outputs": [],
   "source": []
  },
  {
   "cell_type": "code",
   "execution_count": null,
   "id": "8ccb36df-9d50-46b1-b74a-206e61a8f788",
   "metadata": {},
   "outputs": [],
   "source": []
  },
  {
   "cell_type": "code",
   "execution_count": null,
   "id": "65c71fee-78ba-4372-ab1c-95741a7d4925",
   "metadata": {},
   "outputs": [],
   "source": []
  },
  {
   "cell_type": "code",
   "execution_count": null,
   "id": "ac495f19-55f6-42e9-87ec-d5f3d5284695",
   "metadata": {},
   "outputs": [],
   "source": []
  },
  {
   "cell_type": "code",
   "execution_count": null,
   "id": "093fb0b8-4579-40ab-8901-18f07fae5525",
   "metadata": {},
   "outputs": [],
   "source": []
  },
  {
   "cell_type": "code",
   "execution_count": null,
   "id": "7a923ee6-d4c1-4cf4-9d30-374d1c2dee20",
   "metadata": {},
   "outputs": [],
   "source": []
  },
  {
   "cell_type": "code",
   "execution_count": null,
   "id": "ec414a61-453d-4d06-bba9-102b048287dd",
   "metadata": {},
   "outputs": [],
   "source": []
  }
 ],
 "metadata": {
  "kernelspec": {
   "display_name": "Python 3",
   "language": "python",
   "name": "python3"
  },
  "language_info": {
   "codemirror_mode": {
    "name": "ipython",
    "version": 3
   },
   "file_extension": ".py",
   "mimetype": "text/x-python",
   "name": "python",
   "nbconvert_exporter": "python",
   "pygments_lexer": "ipython3",
   "version": "3.8.8"
  }
 },
 "nbformat": 4,
 "nbformat_minor": 5
}
