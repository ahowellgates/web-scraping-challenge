{
 "cells": [
  {
   "cell_type": "code",
   "execution_count": 3,
   "id": "15cf45e3-8752-406c-adc7-75bee0ef64d9",
   "metadata": {},
   "outputs": [],
   "source": [
    "# Dependencies\n",
    "import pandas as pd\n",
    "from splinter import Browser\n",
    "from bs4 import BeautifulSoup\n",
    "from webdriver_manager.chrome import ChromeDriverManager\n",
    "import requests"
   ]
  },
  {
   "cell_type": "code",
   "execution_count": 4,
   "id": "c7a0faa0-0b5d-45b0-b5a0-151d45126806",
   "metadata": {},
   "outputs": [
    {
     "name": "stderr",
     "output_type": "stream",
     "text": [
      "\n",
      "\n",
      "====== WebDriver manager ======\n",
      "Current google-chrome version is 80.0.3987\n",
      "Get LATEST driver version for 80.0.3987\n",
      "There is no [mac64] chromedriver for browser 80.0.3987 in cache\n",
      "Get LATEST driver version for 80.0.3987\n",
      "Trying to download new driver from https://chromedriver.storage.googleapis.com/80.0.3987.106/chromedriver_mac64.zip\n",
      "Driver has been saved in cache [/Users/ashleygates/.wdm/drivers/chromedriver/mac64/80.0.3987.106]\n"
     ]
    }
   ],
   "source": [
    "# Setup splinter\n",
    "executable_path = {'executable_path': ChromeDriverManager().install()}\n",
    "browser = Browser('chrome', **executable_path, headless=False)"
   ]
  },
  {
   "cell_type": "code",
   "execution_count": 5,
   "id": "a48aa1bc-30a8-4fed-9d28-c9b8ccf78a1c",
   "metadata": {},
   "outputs": [],
   "source": [
    "# URL of page to be scraped\n",
    "url = 'https://mars.nasa.gov/news/?page=0&per_page=40&order=publish_date+desc%2Ccreated_at+desc&search=&category=19%2C165%2C184%2C204&blank_scope=Latest'\n",
    "browser.visit(url)"
   ]
  },
  {
   "cell_type": "code",
   "execution_count": 7,
   "id": "2c9511bb-058a-4441-86d1-89a8cce2e843",
   "metadata": {},
   "outputs": [],
   "source": [
    "# Create BeautifulSoup object; parse with 'html.parser'\n",
    "html = browser.html\n",
    "soup = BeautifulSoup(html, 'html.parser')"
   ]
  },
  {
   "cell_type": "code",
   "execution_count": 9,
   "id": "4597b819-034e-4757-b12d-42f1260ef04c",
   "metadata": {},
   "outputs": [
    {
     "name": "stdout",
     "output_type": "stream",
     "text": [
      "NASA's Perseverance Plans Next Sample Attempt\n",
      "The rover will abrade a rock this week, allowing scientists and engineers to decide whether that target would withstand its powerful drill.\n"
     ]
    }
   ],
   "source": [
    "# Get a list of all news division and pick out the latest one\n",
    "\n",
    "results = soup.find_all('div', class_='list_text')\n",
    "result = results[0]\n",
    "\n",
    "\n",
    "try:\n",
    "    # Identify and return title and paragraph\n",
    "    news_title = result.find('div', class_='content_title').a.text.strip()\n",
    "    news_paragraph = result.find('div', class_='article_teaser_body').text.strip()\n",
    "    \n",
    "    # Print title and paragraph\n",
    "    print(news_title)\n",
    "    print(news_paragraph)\n",
    "\n",
    "except Exception as e: \n",
    "    print(e)"
   ]
  },
  {
   "cell_type": "code",
   "execution_count": null,
   "id": "1dace847-c924-406c-821f-2447aabde281",
   "metadata": {
    "tags": []
   },
   "outputs": [],
   "source": [
    "browser.quit()"
   ]
  },
  {
   "cell_type": "code",
   "execution_count": null,
   "id": "29efe82c-cb57-45a4-b790-a1682a636de4",
   "metadata": {},
   "outputs": [],
   "source": []
  },
  {
   "cell_type": "code",
   "execution_count": null,
   "id": "a8d845b2-e8e3-4436-8ef0-67097303f863",
   "metadata": {},
   "outputs": [],
   "source": []
  },
  {
   "cell_type": "code",
   "execution_count": null,
   "id": "1e398e41-4b65-4501-8eaa-f16f69597591",
   "metadata": {},
   "outputs": [],
   "source": []
  },
  {
   "cell_type": "code",
   "execution_count": null,
   "id": "d2fbde13-9dc9-46c9-a25e-3abac1f4e0d1",
   "metadata": {},
   "outputs": [],
   "source": []
  },
  {
   "cell_type": "code",
   "execution_count": null,
   "id": "4d7f2f67-6a6b-4add-8be4-a87c408ba47e",
   "metadata": {},
   "outputs": [],
   "source": []
  },
  {
   "cell_type": "code",
   "execution_count": null,
   "id": "4832942f-9601-4f67-88c6-e12d658cee46",
   "metadata": {},
   "outputs": [],
   "source": []
  }
 ],
 "metadata": {
  "kernelspec": {
   "display_name": "Python 3",
   "language": "python",
   "name": "python3"
  },
  "language_info": {
   "codemirror_mode": {
    "name": "ipython",
    "version": 3
   },
   "file_extension": ".py",
   "mimetype": "text/x-python",
   "name": "python",
   "nbconvert_exporter": "python",
   "pygments_lexer": "ipython3",
   "version": "3.8.8"
  }
 },
 "nbformat": 4,
 "nbformat_minor": 5
}
